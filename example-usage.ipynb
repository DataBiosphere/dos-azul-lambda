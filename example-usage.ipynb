{
 "cells": [
  {
   "cell_type": "markdown",
   "metadata": {},
   "source": [
    "# Using the dos-azul-lambda\n",
    "\n",
    "This notebook demonstrates usage of the dos-azul-lambda, which exposes metadata from the dss-azul-index. This index provides a \"file-based\" view of HCA DSS data.\n",
    "\n",
    "For this demonstration, we will use the lambda at the following url:"
   ]
  },
  {
   "cell_type": "code",
   "execution_count": 29,
   "metadata": {},
   "outputs": [],
   "source": [
    "lambda_url = \"https://5ybh0f5iai.execute-api.us-west-2.amazonaws.com/api/\""
   ]
  },
  {
   "cell_type": "markdown",
   "metadata": {},
   "source": [
    "For convenience, a swagger schema of the API is made available:"
   ]
  },
  {
   "cell_type": "code",
   "execution_count": 30,
   "metadata": {},
   "outputs": [
    {
     "name": "stdout",
     "output_type": "stream",
     "text": [
      "{\"info\": {\"version\": \"0.2.0\", \"title\": \"Data Object Service\"}, \"paths\": {\"/databundles/{data_bundle_id}/versions\": {\"get\": {\"x-swagger-router-controller\": \"ga4gh.dos.server\", \"responses\": {\"200\": {\"description\": \"The versions for the Data Bundle were found successfully.\", \"schema\": {\"$ref\": \"#/definitions/GetDataBundleVersionsResponse\"}}, \"404\": {\"description\": \"The requested Data Bundle wasn't found.\", \"schema\": {\"$ref\": \"#/definitions/ErrorResponse\"}}, \"403\": {\"description\": \"The requester is not authorized to perform this action.\", \"schema\": {\"$ref\": \"#/definitions/ErrorResponse\"}}, \"401\": {\"description\": \"The request is unauthorized.\", \"schema\": {\"$ref\": \"#/definitions/ErrorResponse\"}}, \"400\": {\"description\": \"The request is malformed.\", \"schema\": {\"$ref\": \"#/definitions/ErrorResponse\"}}, \"500\": {\"description\": \"An unexpected error occurred.\", \"schema\": {\"$ref\": \"#/definitions/ErrorResponse\"}}}, \"parameters\": [{\"required\": true, \"type\": \"string\", \"name\": \"data_bundle_id\", \"in\": \"path\"}], \"tags\": [\"DataObjectService\"], \"operationId\": \"GetDataBundleVersions\", \"summary\": \"Retrieve all versions of a Data Bundle\"}}, \"/dataobjects/{data_object_id}\": {\"put\": {\"x-swagger-router-controller\": \"ga4gh.dos.server\", \"responses\": {\"200\": {\"description\": \"The Data Object was successfully updated.\", \"schema\": {\"$ref\": \"#/definitions/UpdateDataObjectResponse\"}}, \"404\": {\"description\": \"The requested Data Object wasn't found.\", \"schema\": {\"$ref\": \"#/definitions/ErrorResponse\"}}, \"403\": {\"description\": \"The requester is not authorized to perform this action.\", \"schema\": {\"$ref\": \"#/definitions/ErrorResponse\"}}, \"401\": {\"description\": \"The request is unauthorized.\", \"schema\": {\"$ref\": \"#/definitions/ErrorResponse\"}}, \"400\": {\"description\": \"The request is malformed.\", \"schema\": {\"$ref\": \"#/definitions/ErrorResponse\"}}, \"500\": {\"description\": \"An unexpected error occurred.\", \"schema\": {\"$ref\": \"#/definitions/ErrorResponse\"}}}, \"parameters\": [{\"required\": true, \"type\": \"string\", \"name\": \"data_object_id\", \"in\": \"path\"}, {\"required\": true, \"in\": \"body\", \"name\": \"body\", \"schema\": {\"$ref\": \"#/definitions/UpdateDataObjectRequest\"}}], \"tags\": [\"DataObjectService\"], \"operationId\": \"UpdateDataObject\", \"summary\": \"Update a Data Object\"}, \"get\": {\"x-swagger-router-controller\": \"ga4gh.dos.server\", \"responses\": {\"200\": {\"description\": \"The Data Object was found successfully.\", \"schema\": {\"$ref\": \"#/definitions/GetDataObjectResponse\"}}, \"404\": {\"description\": \"The requested Data Object wasn't found\", \"schema\": {\"$ref\": \"#/definitions/ErrorResponse\"}}, \"403\": {\"description\": \"The requester is not authorized to perform this action.\", \"schema\": {\"$ref\": \"#/definitions/ErrorResponse\"}}, \"401\": {\"description\": \"The request is unauthorized.\", \"schema\": {\"$ref\": \"#/definitions/ErrorResponse\"}}, \"400\": {\"description\": \"The request is malformed.\", \"schema\": {\"$ref\": \"#/definitions/ErrorResponse\"}}, \"500\": {\"description\": \"An unexpected error occurred.\", \"schema\": {\"$ref\": \"#/definitions/ErrorResponse\"}}}, \"parameters\": [{\"required\": true, \"type\": \"string\", \"name\": \"data_object_id\", \"in\": \"path\"}, {\"description\": \"OPTIONAL\\nIf provided will return the requested version of the selected Data Object.\", \"required\": false, \"type\": \"string\", \"name\": \"version\", \"in\": \"query\"}], \"tags\": [\"DataObjectService\"], \"operationId\": \"GetDataObject\", \"summary\": \"Retrieve a Data Object\"}, \"delete\": {\"x-swagger-router-controller\": \"ga4gh.dos.server\", \"responses\": {\"200\": {\"description\": \"The Data Object was deleted successfully.\", \"schema\": {\"$ref\": \"#/definitions/DeleteDataObjectResponse\"}}, \"404\": {\"description\": \"The requested Data Object wasn't found.\", \"schema\": {\"$ref\": \"#/definitions/ErrorResponse\"}}, \"403\": {\"description\": \"The requester is not authorized to perform this action.\", \"schema\": {\"$ref\": \"#/definitions/ErrorResponse\"}}, \"401\": {\"description\": \"The request is unauthorized.\", \"schema\": {\"$ref\": \"#/definitions/ErrorResponse\"}}, \"400\": {\"description\": \"The request is malformed.\", \"schema\": {\"$ref\": \"#/definitions/ErrorResponse\"}}, \"500\": {\"description\": \"An unexpected error occurred.\", \"schema\": {\"$ref\": \"#/definitions/ErrorResponse\"}}}, \"parameters\": [{\"required\": true, \"type\": \"string\", \"name\": \"data_object_id\", \"in\": \"path\"}], \"tags\": [\"DataObjectService\"], \"operationId\": \"DeleteDataObject\", \"summary\": \"Delete a Data Object index entry\"}}, \"/dataobjects/list\": {\"post\": {\"x-swagger-router-controller\": \"ga4gh.dos.server\", \"responses\": {\"200\": {\"description\": \"The Data Objects were listed successfully.\", \"schema\": {\"$ref\": \"#/definitions/ListDataObjectsResponse\"}}, \"403\": {\"description\": \"The requester is not authorized to perform this action.\", \"schema\": {\"$ref\": \"#/definitions/ErrorResponse\"}}, \"401\": {\"description\": \"The request is unauthorized.\", \"schema\": {\"$ref\": \"#/definitions/ErrorResponse\"}}, \"500\": {\"description\": \"An unexpected error occurred.\", \"schema\": {\"$ref\": \"#/definitions/ErrorResponse\"}}, \"400\": {\"description\": \"The request is malformed.\", \"schema\": {\"$ref\": \"#/definitions/ErrorResponse\"}}}, \"parameters\": [{\"required\": true, \"in\": \"body\", \"name\": \"body\", \"schema\": {\"$ref\": \"#/definitions/ListDataObjectsRequest\"}}], \"tags\": [\"DataObjectService\"], \"operationId\": \"ListDataObjects\", \"summary\": \"List the Data Objects\"}}, \"/databundles/list\": {\"post\": {\"x-swagger-router-controller\": \"ga4gh.dos.server\", \"responses\": {\"200\": {\"description\": \"Successfully listed Data Bundles.\", \"schema\": {\"$ref\": \"#/definitions/ListDataBundlesResponse\"}}, \"403\": {\"description\": \"The requester is not authorized to perform this action.\", \"schema\": {\"$ref\": \"#/definitions/ErrorResponse\"}}, \"401\": {\"description\": \"The request is unauthorized.\", \"schema\": {\"$ref\": \"#/definitions/ErrorResponse\"}}, \"500\": {\"description\": \"An unexpected error occurred.\", \"schema\": {\"$ref\": \"#/definitions/ErrorResponse\"}}, \"400\": {\"description\": \"The request is malformed.\", \"schema\": {\"$ref\": \"#/definitions/ErrorResponse\"}}}, \"parameters\": [{\"required\": true, \"in\": \"body\", \"name\": \"body\", \"schema\": {\"$ref\": \"#/definitions/ListDataBundlesRequest\"}}], \"tags\": [\"DataObjectService\"], \"operationId\": \"ListDataBundles\", \"summary\": \"List the Data Bundles\"}}, \"/dataobjects\": {\"post\": {\"x-swagger-router-controller\": \"ga4gh.dos.server\", \"responses\": {\"200\": {\"description\": \"Successfully created the Data Object.\", \"schema\": {\"$ref\": \"#/definitions/CreateDataObjectResponse\"}}, \"403\": {\"description\": \"The requester is not authorized to perform this action.\", \"schema\": {\"$ref\": \"#/definitions/ErrorResponse\"}}, \"401\": {\"description\": \"The request is unauthorized.\", \"schema\": {\"$ref\": \"#/definitions/ErrorResponse\"}}, \"500\": {\"description\": \"An unexpected error occurred.\", \"schema\": {\"$ref\": \"#/definitions/ErrorResponse\"}}, \"400\": {\"description\": \"The request is malformed.\", \"schema\": {\"$ref\": \"#/definitions/ErrorResponse\"}}}, \"parameters\": [{\"required\": true, \"in\": \"body\", \"name\": \"body\", \"schema\": {\"$ref\": \"#/definitions/CreateDataObjectRequest\"}}], \"tags\": [\"DataObjectService\"], \"operationId\": \"CreateDataObject\", \"summary\": \"Make a new Data Object\"}}, \"/databundles\": {\"post\": {\"x-swagger-router-controller\": \"ga4gh.dos.server\", \"responses\": {\"200\": {\"description\": \"The Data Bundle was successfully created.\", \"schema\": {\"$ref\": \"#/definitions/CreateDataBundleResponse\"}}, \"403\": {\"description\": \"The requester is not authorized to perform this action.\", \"schema\": {\"$ref\": \"#/definitions/ErrorResponse\"}}, \"401\": {\"description\": \"The request is unauthorized.\", \"schema\": {\"$ref\": \"#/definitions/ErrorResponse\"}}, \"500\": {\"description\": \"An unexpected error occurred.\", \"schema\": {\"$ref\": \"#/definitions/ErrorResponse\"}}, \"400\": {\"description\": \"The request is malformed.\", \"schema\": {\"$ref\": \"#/definitions/ErrorResponse\"}}}, \"parameters\": [{\"required\": true, \"in\": \"body\", \"name\": \"body\", \"schema\": {\"$ref\": \"#/definitions/CreateDataBundleRequest\"}}], \"tags\": [\"DataObjectService\"], \"operationId\": \"CreateDataBundle\", \"summary\": \"Create a new Data Bundle\"}}, \"/dataobjects/{data_object_id}/versions\": {\"get\": {\"x-swagger-router-controller\": \"ga4gh.dos.server\", \"responses\": {\"200\": {\"description\": \"The versions for the Data Object were returned successfully.\", \"schema\": {\"$ref\": \"#/definitions/GetDataObjectVersionsResponse\"}}, \"404\": {\"description\": \"The requested Data Object wasn't found.\", \"schema\": {\"$ref\": \"#/definitions/ErrorResponse\"}}, \"403\": {\"description\": \"The requester is not authorized to perform this action.\", \"schema\": {\"$ref\": \"#/definitions/ErrorResponse\"}}, \"401\": {\"description\": \"The request is unauthorized.\", \"schema\": {\"$ref\": \"#/definitions/ErrorResponse\"}}, \"400\": {\"description\": \"The request is malformed.\", \"schema\": {\"$ref\": \"#/definitions/ErrorResponse\"}}, \"500\": {\"description\": \"An unexpected error occurred.\", \"schema\": {\"$ref\": \"#/definitions/ErrorResponse\"}}}, \"parameters\": [{\"required\": true, \"type\": \"string\", \"name\": \"data_object_id\", \"in\": \"path\"}], \"tags\": [\"DataObjectService\"], \"operationId\": \"GetDataObjectVersions\", \"summary\": \"Retrieve all versions of a Data Object\"}}, \"/databundles/{data_bundle_id}\": {\"put\": {\"x-swagger-router-controller\": \"ga4gh.dos.server\", \"responses\": {\"200\": {\"description\": \"The Data Bundle was updated successfully.\", \"schema\": {\"$ref\": \"#/definitions/UpdateDataBundleResponse\"}}, \"404\": {\"description\": \"The requested Data Bundle wasn't found.\", \"schema\": {\"$ref\": \"#/definitions/ErrorResponse\"}}, \"403\": {\"description\": \"The requester is not authorized to perform this action.\", \"schema\": {\"$ref\": \"#/definitions/ErrorResponse\"}}, \"401\": {\"description\": \"The request is unauthorized.\", \"schema\": {\"$ref\": \"#/definitions/ErrorResponse\"}}, \"400\": {\"description\": \"The request is malformed.\", \"schema\": {\"$ref\": \"#/definitions/ErrorResponse\"}}, \"500\": {\"description\": \"An unexpected error occurred.\", \"schema\": {\"$ref\": \"#/definitions/ErrorResponse\"}}}, \"parameters\": [{\"required\": true, \"type\": \"string\", \"name\": \"data_bundle_id\", \"in\": \"path\"}, {\"required\": true, \"in\": \"body\", \"name\": \"body\", \"schema\": {\"$ref\": \"#/definitions/UpdateDataBundleRequest\"}}], \"tags\": [\"DataObjectService\"], \"operationId\": \"UpdateDataBundle\", \"summary\": \"Update a Data Bundle\"}, \"get\": {\"x-swagger-router-controller\": \"ga4gh.dos.server\", \"responses\": {\"200\": {\"description\": \"Successfully found the Data Bundle.\", \"schema\": {\"$ref\": \"#/definitions/GetDataBundleResponse\"}}, \"404\": {\"description\": \"The requested Data Bundle wasn't found.\", \"schema\": {\"$ref\": \"#/definitions/ErrorResponse\"}}, \"403\": {\"description\": \"The requester is not authorized to perform this action.\", \"schema\": {\"$ref\": \"#/definitions/ErrorResponse\"}}, \"401\": {\"description\": \"The request is unauthorized.\", \"schema\": {\"$ref\": \"#/definitions/ErrorResponse\"}}, \"400\": {\"description\": \"The request is malformed.\", \"schema\": {\"$ref\": \"#/definitions/ErrorResponse\"}}, \"500\": {\"description\": \"An unexpected error occurred.\", \"schema\": {\"$ref\": \"#/definitions/ErrorResponse\"}}}, \"parameters\": [{\"required\": true, \"type\": \"string\", \"name\": \"data_bundle_id\", \"in\": \"path\"}, {\"description\": \"OPTIONAL\\nIf provided will return the requested version of the selected Data Bundle.\\nOtherwise, only the latest version is returned.\", \"required\": false, \"type\": \"string\", \"name\": \"version\", \"in\": \"query\"}], \"tags\": [\"DataObjectService\"], \"operationId\": \"GetDataBundle\", \"summary\": \"Retrieve a Data Bundle\"}, \"delete\": {\"x-swagger-router-controller\": \"ga4gh.dos.server\", \"responses\": {\"200\": {\"description\": \"\", \"schema\": {\"$ref\": \"#/definitions/DeleteDataBundleResponse\"}}}, \"parameters\": [{\"required\": true, \"type\": \"string\", \"name\": \"data_bundle_id\", \"in\": \"path\"}], \"tags\": [\"DataObjectService\"], \"operationId\": \"DeleteDataBundle\", \"summary\": \"Delete a Data Bundle\"}}}, \"schemes\": [\"http\", \"https\"], \"produces\": [\"application/json\"], \"basePath\": \"/api/ga4gh/dos/v1\", \"definitions\": {\"CreateDataBundleRequest\": {\"type\": \"object\", \"properties\": {\"data_bundle\": {\"$ref\": \"#/definitions/DataBundle\"}}}, \"UpdateDataObjectRequest\": {\"type\": \"object\", \"properties\": {\"data_object_id\": {\"type\": \"string\", \"description\": \"REQUIRED\\nThe identifier of the Data Object to be updated.\"}, \"data_object\": {\"description\": \"REQUIRED\\nThe new Data Object for this identifier.\", \"$ref\": \"#/definitions/DataObject\"}}}, \"URL\": {\"type\": \"object\", \"properties\": {\"url\": {\"type\": \"string\", \"description\": \"REQUIRED\\nA URL that can be used to access the file.\"}, \"system_metadata\": {\"$ref\": \"#/definitions/SystemMetadata\"}, \"user_metadata\": {\"$ref\": \"#/definitions/UserMetadata\"}}}, \"Checksum\": {\"type\": \"object\", \"properties\": {\"checksum\": {\"type\": \"string\", \"description\": \"REQUIRED\\nThe hex-string encoded checksum for the Data.\"}, \"type\": {\"type\": \"string\", \"description\": \"OPTIONAL\\nThe digest method used to create the checksum. If left unspecified md5\\nwill be assumed.\\n\\npossible values:\\nmd5                # most blob stores provide a checksum using this\\nmultipart-md5      # multipart uploads provide a specialized tag in S3\\nsha256\\nsha512\"}}}, \"DataBundle\": {\"type\": \"object\", \"properties\": {\"updated\": {\"type\": \"string\", \"description\": \"REQUIRED\\nTimestamp of update in RFC3339, identical to create timestamp in systems\\nthat do not support updates.\", \"format\": \"date-time\"}, \"description\": {\"type\": \"string\", \"description\": \"OPTIONAL\\nA human readable description.\"}, \"created\": {\"type\": \"string\", \"description\": \"REQUIRED\\nTimestamp of object creation in RFC3339.\", \"format\": \"date-time\"}, \"data_object_ids\": {\"items\": {\"type\": \"string\"}, \"type\": \"array\", \"description\": \"REQUIRED\\nThe list of Data Objects that this Data Bundle contains.\"}, \"version\": {\"type\": \"string\", \"description\": \"REQUIRED\\nA string representing a version, some systems may use checksum, a RFC3339\\ntimestamp, or incrementing version number. For systems that do not support\\nversioning please use your update timestamp as your version.\"}, \"user_metadata\": {\"$ref\": \"#/definitions/UserMetadata\"}, \"checksums\": {\"items\": {\"$ref\": \"#/definitions/Checksum\"}, \"type\": \"array\", \"description\": \"REQUIRED\\nAt least one checksum must be provided.\\nThe data bundle checksum is computed over all the checksums of the\\nData Objects that bundle contains.\"}, \"system_metadata\": {\"$ref\": \"#/definitions/SystemMetadata\"}, \"id\": {\"type\": \"string\", \"description\": \"REQUIRED\\nAn identifier, unique to this Data Bundle\"}, \"aliases\": {\"items\": {\"type\": \"string\"}, \"type\": \"array\", \"description\": \"OPTIONAL\\nA list of strings that can be used to identify this Data Bundle.\"}}}, \"ChecksumRequest\": {\"type\": \"object\", \"properties\": {\"checksum\": {\"type\": \"string\", \"description\": \"REQUIRED\\nThe hexlified checksum that one would like to match on.\"}, \"type\": {\"type\": \"string\", \"description\": \"OPTIONAL\\nIf provided will restrict responses to those that match the provided\\ntype.\\n\\npossible values:\\nmd5                # most blob stores provide a checksum using this\\nmultipart-md5      # multipart uploads provide a specialized tag in S3\\nsha256\\nsha512\"}}}, \"CreateDataObjectResponse\": {\"type\": \"object\", \"properties\": {\"data_object_id\": {\"type\": \"string\", \"description\": \"The ID of the created Data Object.\"}}}, \"CreateDataBundleResponse\": {\"type\": \"object\", \"properties\": {\"data_bundle_id\": {\"type\": \"string\", \"description\": \"REQUIRED\\nThe identifier of the Data Bundle created.\"}}}, \"GetDataBundleResponse\": {\"type\": \"object\", \"properties\": {\"data_bundle\": {\"$ref\": \"#/definitions/DataBundle\"}}}, \"DeleteDataBundleResponse\": {\"type\": \"object\", \"properties\": {\"data_bundle_id\": {\"type\": \"string\"}}}, \"ErrorResponse\": {\"type\": \"object\", \"description\": \"An object that can optionally include information about the error.\", \"properties\": {\"msg\": {\"type\": \"string\", \"description\": \"A detailed error message.\"}, \"status_code\": {\"type\": \"integer\", \"description\": \"The integer representing the HTTP status code (e.g. 200, 404).\"}}}, \"ListDataObjectsRequest\": {\"type\": \"object\", \"properties\": {\"url\": {\"type\": \"string\", \"description\": \"OPTIONAL\\nIf provided will return only Data Objects with a that URL matches\\nthis string.\"}, \"alias\": {\"type\": \"string\", \"description\": \"OPTIONAL\\nIf provided will only return Data Objects with the given alias.\"}, \"checksum\": {\"description\": \"OPTIONAL\\nIf provided will only return data object messages with the provided\\nchecksum. If the checksum type is provided\", \"$ref\": \"#/definitions/ChecksumRequest\"}, \"page_size\": {\"type\": \"integer\", \"description\": \"OPTIONAL\\nSpecifies the maximum number of results to return in a single page.\\nIf unspecified, a system default will be used.\", \"format\": \"int32\"}, \"page_token\": {\"type\": \"string\", \"description\": \"OPTIONAL\\nThe continuation token, which is used to page through large result sets.\\nTo get the next page of results, set this parameter to the value of\\n`next_page_token` from the previous response.\"}}, \"description\": \"Allows a requester to list and filter Data Objects. Only Data Objects\\nmatching all of the requested parameters will be returned.\"}, \"GetDataBundleVersionsResponse\": {\"type\": \"object\", \"properties\": {\"data_bundles\": {\"items\": {\"$ref\": \"#/definitions/DataBundle\"}, \"type\": \"array\", \"description\": \"REQUIRED\\nAll versions of the Data Bundles that match the GetDataBundleVersions\\nrequest.\"}}}, \"DeleteDataObjectResponse\": {\"type\": \"object\", \"properties\": {\"data_object_id\": {\"type\": \"string\", \"description\": \"REQUIRED\\nThe identifier of the Data Object deleted.\"}}}, \"GetDataObjectVersionsResponse\": {\"type\": \"object\", \"properties\": {\"data_objects\": {\"items\": {\"$ref\": \"#/definitions/DataObject\"}, \"type\": \"array\", \"description\": \"REQUIRED\\nAll versions of the Data Objects that match the GetDataObjectVersions\\nrequest.\"}}}, \"DataObject\": {\"type\": \"object\", \"properties\": {\"size\": {\"type\": \"string\", \"description\": \"REQUIRED\\nThe computed size in bytes.\", \"format\": \"int64\"}, \"updated\": {\"type\": \"string\", \"description\": \"OPTIONAL\\nTimestamp of update in RFC3339, identical to create timestamp in systems\\nthat do not support updates.\", \"format\": \"date-time\"}, \"name\": {\"type\": \"string\", \"description\": \"OPTIONAL\\nA string that can be optionally used to name a Data Object.\"}, \"created\": {\"type\": \"string\", \"description\": \"REQUIRED\\nTimestamp of object creation in RFC3339.\", \"format\": \"date-time\"}, \"version\": {\"type\": \"string\", \"description\": \"OPTIONAL\\nA string representing a version.\"}, \"urls\": {\"items\": {\"$ref\": \"#/definitions/URL\"}, \"type\": \"array\", \"description\": \"OPTIONAL\\nThe list of URLs that can be used to access the Data Object.\"}, \"checksums\": {\"items\": {\"$ref\": \"#/definitions/Checksum\"}, \"type\": \"array\", \"description\": \"REQUIRED\\nThe checksum of the Data Object. At least one checksum must be provided.\"}, \"aliases\": {\"items\": {\"type\": \"string\"}, \"type\": \"array\", \"description\": \"OPTIONAL\\nA list of strings that can be used to find this Data Object.\\nThese aliases can be used to represent the Data Object's location in\\na directory (e.g. \\\"bucket/folder/file.name\\\") to make Data Objects\\nmore discoverable. They might also be used to represent\"}, \"id\": {\"type\": \"string\", \"description\": \"REQUIRED\\nAn identifier unique to this Data Object.\"}, \"mime_type\": {\"type\": \"string\", \"description\": \"OPTIONAL\\nA string providing the mime-type of the Data Object.\\nFor example, \\\"application/json\\\".\"}, \"description\": {\"type\": \"string\", \"description\": \"OPTIONAL\\nA human readable description of the contents of the Data Object.\"}}}, \"SystemMetadata\": {\"additionalProperties\": true, \"type\": \"object\", \"description\": \"OPTIONAL\\nThese values are reported by the underlying object store.\\nA set of key-value pairs that represent system metadata about the object.\"}, \"UpdateDataObjectResponse\": {\"type\": \"object\", \"properties\": {\"data_object_id\": {\"type\": \"string\", \"description\": \"REQUIRED\\nThe identifier of the Data Object updated.\"}}}, \"ListDataBundlesRequest\": {\"type\": \"object\", \"description\": \"Only return Data Bundles that match all of the request parameters. A\\npage_size and page_token are provided for retrieving a large number of\\nresults.\", \"properties\": {\"alias\": {\"type\": \"string\", \"description\": \"OPTIONAL\\nIf provided returns Data Bundles that have any alias that matches the\\nrequest.\"}, \"checksum\": {\"description\": \"OPTIONAL\\nIf provided, will only return Data Bundles which have the provided\\nchecksum.\", \"$ref\": \"#/definitions/Checksum\"}, \"page_size\": {\"type\": \"integer\", \"description\": \"OPTIONAL\\nSpecifies the maximum number of results to return in a single page.\\nIf unspecified, a system default will be used.\", \"format\": \"int32\"}, \"page_token\": {\"type\": \"string\", \"description\": \"OPTIONAL\\nThe continuation token, which is used to page through large result sets.\\nTo get the next page of results, set this parameter to the value of\\n`next_page_token` from the previous response.\"}}}, \"UpdateDataBundleResponse\": {\"type\": \"object\", \"properties\": {\"data_bundle_id\": {\"type\": \"string\", \"description\": \"REQUIRED\\nThe identifier of the Data Bundle updated.\"}}}, \"UserMetadata\": {\"additionalProperties\": true, \"type\": \"object\", \"description\": \"OPTIONAL\\nA set of key-value pairs that represent metadata provided by the uploader.\"}, \"ListDataBundlesResponse\": {\"type\": \"object\", \"description\": \"A list of Data Bundles matching the request parameters and a continuation\\ntoken that can be used to retrieve more results.\", \"properties\": {\"data_bundles\": {\"items\": {\"$ref\": \"#/definitions/DataBundle\"}, \"type\": \"array\", \"description\": \"The list of Data Bundles.\"}, \"next_page_token\": {\"type\": \"string\", \"description\": \"The continuation token, which is used to page through large result sets.\\nProvide this value in a subsequent request to return the next page of\\nresults. This field will be empty if there aren't any additional results.\"}}}, \"CreateDataObjectRequest\": {\"type\": \"object\", \"properties\": {\"data_object\": {\"description\": \"REQUIRED\\nThe data object to be created. The ID scheme is left up to the\\nimplementor but should be unique to the server instance.\", \"$ref\": \"#/definitions/DataObject\"}}, \"description\": \"The Data Object one would like to index. One must provide any aliases\\nand URLs to this file when sending the CreateDataObjectRequest. It is up\\nto implementations to validate that the Data Object is available from\\nthe provided URLs.\"}, \"UpdateDataBundleRequest\": {\"type\": \"object\", \"properties\": {\"data_bundle\": {\"description\": \"REQUIRED\\nThe new Data Bundle content.\", \"$ref\": \"#/definitions/DataBundle\"}, \"data_bundle_id\": {\"type\": \"string\", \"description\": \"REQUIRED\"}}}, \"ListDataObjectsResponse\": {\"type\": \"object\", \"properties\": {\"next_page_token\": {\"type\": \"string\", \"description\": \"The continuation token, which is used to page through large result sets.\\nProvide this value in a subsequent request to return the next page of\\nresults. This field will be empty if there aren't any additional results.\"}, \"data_objects\": {\"items\": {\"$ref\": \"#/definitions/DataObject\"}, \"type\": \"array\", \"description\": \"The list of Data Objects.\"}}, \"description\": \"A list of Data Objects matching the requested parameters, and a paging\\ntoken, that can be used to retrieve more results.\"}, \"GetDataObjectResponse\": {\"type\": \"object\", \"properties\": {\"data_object\": {\"description\": \"REQUIRED\\nThe Data Object that coincides with a specific GetDataObjectRequest.\", \"$ref\": \"#/definitions/DataObject\"}}}}, \"swagger\": \"2.0\", \"consumes\": [\"application/json\"]}"
     ]
    }
   ],
   "source": [
    "!curl $lambda_url/swagger.json"
   ]
  },
  {
   "cell_type": "markdown",
   "metadata": {},
   "source": [
    "We'll use this later to instantiate a DOS client to access data in the lambda."
   ]
  },
  {
   "cell_type": "markdown",
   "metadata": {},
   "source": [
    "## Listing Data Objects\n",
    "\n",
    "Data Object Service's provide a `ListDataObjects` method that can be used to get an idea of what the system provides. We'll start by making a list request."
   ]
  },
  {
   "cell_type": "code",
   "execution_count": 31,
   "metadata": {},
   "outputs": [
    {
     "name": "stdout",
     "output_type": "stream",
     "text": [
      "<Response [200]>\n"
     ]
    }
   ],
   "source": [
    "import requests\n",
    "response = requests.get(\"{}/ga4gh/dos/v1/dataobjects\".format(lambda_url))\n",
    "print(response)"
   ]
  },
  {
   "cell_type": "code",
   "execution_count": 32,
   "metadata": {},
   "outputs": [
    {
     "name": "stdout",
     "output_type": "stream",
     "text": [
      "{u'next_page_token': u'1', u'data_objects': [{u'updated': u'2018-01-23T20:08:16.647500Z', u'name': u'NWD259170.recab.cram.crai', u'version': u'2018-01-31T081722.854147Z', u'urls': [{u'url': u's3://commons-dss-commons/blobs/1c7d249c9123007d693857eab3dd4646bc8d742e76c6716c80debbbdd5d48e8b.be947abb597d1a21f2da9d97d96f58e7ca07a214.b933d8fb97268c951e610b6dfa20924d.6fbcd0b3'}], u'checksums': [{u'checksum': u'be947abb597d1a21f2da9d97d96f58e7ca07a214', u'type': u'md5'}], u'aliases': [u'repoDataBundleId:0d6371a8-fc4f-5232-9660-e655903b17ea', u'center_name:UW', u'submitter_donor_id:', u'sampleId:9f1e5d7d-90f8-57c6-8ccb-ca1d89d34611', u'submittedSampleId:HG01110_sample', u'repoBaseUrl:', u'analysis_type:sequence_upload', u'repoCode:Redwood-AWS-Oregon', u'repoCountry:US', u'file_type:crai', u'submittedSpecimenId:HG01110', u'file_version:2018-01-31T081722.854147Z', u'workflow:spinnaker:1.1.2', u'access:public', u'fileMd5sum:be947abb597d1a21f2da9d97d96f58e7ca07a214', u'program:TOPMed', u'repoType:Blue Box', u'repoName:Redwood-AWS-Oregon', u'donor:066c6bb5-7c8c-51ea-b0fb-0c07b105c9b7', u'workflowVersion:1.1.2', u'experimentalStrategy:WGS', u'download_id:0d6371a8-fc4f-5232-9660-e655903b17ea', u'repoOrg:UCSC', u'fileSize:1230140', u'submittedDonorId:NWD259170', u'specimen_type:Normal - blood derived', u'metadataJson:', u'lastModified:2018-01-23T20:08:16.647500', u'study:1000 Genomes', u'submitterDonorPrimarySite:B-lymphocyte', u'specimenUUID:df2b221c-e8c1-5241-9c53-327cf103034e', u'project:1000 Genomes', u'redwoodDonorUUID:066c6bb5-7c8c-51ea-b0fb-0c07b105c9b7', u'title:NWD259170.recab.cram.crai', u'software:spinnaker', u'file_id:46c8a5f1-15ab-48fa-8d1c-63099422e3c7'], u'id': u'46c8a5f1-15ab-48fa-8d1c-63099422e3c7', u'size': u'1230140'}, {u'updated': u'2018-01-19T07:11:34.762129Z', u'name': u'NWD100953.recab.cram.crai', u'version': u'2018-01-31T152803.900629Z', u'urls': [{u'url': u's3://commons-dss-commons/blobs/93e04a07d92ea6732440484ba3b3d2a4841f34c92bd2e41c724d2002e94b44b5.09fcf961a8e3abba39e9a237a104c50668329356.3b0f63a815384a3d44c61b4abd40caf9.a75a2c4b'}], u'checksums': [{u'checksum': u'09fcf961a8e3abba39e9a237a104c50668329356', u'type': u'md5'}], u'aliases': [u'repoDataBundleId:44a8837b-4456-5709-b56b-54e23000f13a', u'center_name:WashU', u'submitter_donor_id:', u'sampleId:c4ffc283-b53e-5559-9d9f-3238ac281d86', u'submittedSampleId:HG01110_sample', u'repoBaseUrl:', u'analysis_type:sequence_upload', u'repoCode:Redwood-AWS-Oregon', u'repoCountry:US', u'file_type:crai', u'submittedSpecimenId:HG01110', u'file_version:2018-01-31T152803.900629Z', u'workflow:spinnaker:1.1.3', u'access:public', u'fileMd5sum:09fcf961a8e3abba39e9a237a104c50668329356', u'program:TOPMed', u'repoType:Blue Box', u'repoName:Redwood-AWS-Oregon', u'donor:4ff60ff5-a1d6-557b-b4ed-3220f62a1b02', u'workflowVersion:1.1.3', u'experimentalStrategy:WGS', u'download_id:44a8837b-4456-5709-b56b-54e23000f13a', u'repoOrg:UCSC', u'fileSize:2201638', u'submittedDonorId:NWD100953', u'specimen_type:Normal - blood derived', u'metadataJson:', u'lastModified:2018-01-19T07:11:34.762129', u'study:1000 Genomes', u'submitterDonorPrimarySite:B-lymphocyte', u'specimenUUID:37865db0-0a24-5b4f-937f-00871886906b', u'project:1000 Genomes', u'redwoodDonorUUID:4ff60ff5-a1d6-557b-b4ed-3220f62a1b02', u'title:NWD100953.recab.cram.crai', u'software:spinnaker', u'file_id:a62ee491-489d-405a-8a3b-83765f9e91fb'], u'id': u'a62ee491-489d-405a-8a3b-83765f9e91fb', u'size': u'2201638'}, {u'updated': u'2018-02-22T06:32:18.346055Z', u'name': u'NWD106415.b38.irc.v1.cram', u'version': u'2018-02-28T033124.129027Z', u'urls': [{u'url': u's3://nih-nhlbi-datacommons/NWD106415.b38.irc.v1.cram'}], u'checksums': [{u'checksum': u'650faa6e40cf7003ad3f8473dca575ea738862c7', u'type': u'md5'}], u'aliases': [u'repoDataBundleId:b5dc2e31-8d75-5da9-b4a2-ba5061492d8d', u'center_name:UW', u'submitter_donor_id:', u'sampleId:adc186d7-32b6-55f3-806d-5bb85ce94c83', u'submittedSampleId:NWD106415', u'repoBaseUrl:', u'analysis_type:alignment', u'repoCode:Redwood-AWS-Oregon', u'repoCountry:US', u'file_type:cram', u'submittedSpecimenId:SRS1231161', u'file_version:2018-02-28T033124.129027Z', u'workflow:topmed-spinnaker:Alpha Build 1', u'access:public', u'fileMd5sum:650faa6e40cf7003ad3f8473dca575ea738862c7', u'program:NHLBI TOPMed: Boston Early-Onset COPD Study in the TOPMed Program', u'repoType:Blue Box', u'repoName:Redwood-AWS-Oregon', u'donor:c2ae54f0-eb16-50d6-b511-e85db0d103a5', u'workflowVersion:Alpha Build 1', u'experimentalStrategy:Seq_DNA_SNP_CNV; Seq_DNA_WholeGenome', u'download_id:b5dc2e31-8d75-5da9-b4a2-ba5061492d8d', u'repoOrg:UCSC', u'fileSize:27350391327', u'submittedDonorId:EO5009365', u'specimen_type:Normal - Blood', u'metadataJson:', u'lastModified:2018-02-22T06:32:18.346055', u'study:COPD', u'submitterDonorPrimarySite:Blood', u'specimenUUID:71557d46-f8eb-547a-924a-d5e9f8623fa2', u'project:COPD', u'redwoodDonorUUID:c2ae54f0-eb16-50d6-b511-e85db0d103a5', u'title:NWD106415.b38.irc.v1.cram', u'software:topmed-spinnaker', u'file_id:fff5a29f-d184-4e3b-9c5b-6f44aea7f527'], u'id': u'fff5a29f-d184-4e3b-9c5b-6f44aea7f527', u'size': u'27350391327'}, {u'updated': u'2018-02-22T06:32:18.896855Z', u'name': u'NWD248298.b38.irc.v1.cram.crai', u'version': u'2018-02-28T054657.721028Z', u'urls': [{u'url': u'gs://topmed-irc-share/genomes/NWD248298.b38.irc.v1.cram.crai'}], u'checksums': [{u'checksum': u'5e87a4e468d459690afc9b5572ae05f7523313fe', u'type': u'md5'}], u'aliases': [u'repoDataBundleId:33707b63-b1bb-5eda-9cb8-86c99c123f44', u'center_name:UW', u'submitter_donor_id:', u'sampleId:994d0902-be3e-5c9b-a750-d778e115a755', u'submittedSampleId:NWD248298', u'repoBaseUrl:', u'analysis_type:alignment', u'repoCode:Redwood-AWS-Oregon', u'repoCountry:US', u'file_type:crai', u'submittedSpecimenId:SRS1231356', u'file_version:2018-02-28T054657.721028Z', u'workflow:topmed-spinnaker:Alpha Build 1', u'access:public', u'fileMd5sum:5e87a4e468d459690afc9b5572ae05f7523313fe', u'program:NHLBI TOPMed: Genetic Epidemiology of COPD (COPDGene) in the TOPMed Program', u'repoType:Blue Box', u'repoName:Redwood-AWS-Oregon', u'donor:4f77f3e8-cf8d-5d70-a401-9daf0ea8a6d2', u'workflowVersion:Alpha Build 1', u'experimentalStrategy:Seq_DNA_SNP_CNV; Seq_DNA_WholeGenome', u'download_id:33707b63-b1bb-5eda-9cb8-86c99c123f44', u'repoOrg:UCSC', u'fileSize:1687902', u'submittedDonorId:COPDGene_E47587', u'specimen_type:Normal - Blood', u'metadataJson:', u'lastModified:2018-02-22T06:32:18.896855', u'study:COPD', u'submitterDonorPrimarySite:Blood', u'specimenUUID:5a7a44f2-75b5-54fe-91ec-2ba34204e6b0', u'project:COPD', u'redwoodDonorUUID:4f77f3e8-cf8d-5d70-a401-9daf0ea8a6d2', u'title:NWD248298.b38.irc.v1.cram.crai', u'software:topmed-spinnaker', u'file_id:24f5248b-d1b0-4348-94e5-1476db16fd8a'], u'id': u'24f5248b-d1b0-4348-94e5-1476db16fd8a', u'size': u'1687902'}, {u'updated': u'2018-02-22T06:32:18.589978Z', u'name': u'NWD148090.b38.irc.v1.cram', u'version': u'2018-02-28T052719.583204Z', u'urls': [{u'url': u'gs://topmed-irc-share/genomes/NWD148090.b38.irc.v1.cram'}], u'checksums': [{u'checksum': u'50ef4cd9c1db9a18263d1d63c5c4c8649ba22dcf', u'type': u'md5'}], u'aliases': [u'repoDataBundleId:010c6900-4cf7-5acb-b711-252e842e594a', u'center_name:UW', u'submitter_donor_id:', u'sampleId:18503220-6b3b-524a-bab0-c21b66298f01', u'submittedSampleId:NWD148090', u'repoBaseUrl:', u'analysis_type:alignment', u'repoCode:Redwood-AWS-Oregon', u'repoCountry:US', u'file_type:cram', u'submittedSpecimenId:SRS1323938', u'file_version:2018-02-28T052719.583204Z', u'workflow:topmed-spinnaker:Alpha Build 1', u'access:public', u'fileMd5sum:50ef4cd9c1db9a18263d1d63c5c4c8649ba22dcf', u'program:NHLBI TOPMed: Genetic Epidemiology of COPD (COPDGene) in the TOPMed Program', u'repoType:Blue Box', u'repoName:Redwood-AWS-Oregon', u'donor:d21800f7-22ce-5def-83e5-c37628b402af', u'workflowVersion:Alpha Build 1', u'experimentalStrategy:Seq_DNA_SNP_CNV; Seq_DNA_WholeGenome', u'download_id:010c6900-4cf7-5acb-b711-252e842e594a', u'repoOrg:UCSC', u'fileSize:31600174469', u'submittedDonorId:COPDGene_L70865', u'specimen_type:Normal - Blood', u'metadataJson:', u'lastModified:2018-02-22T06:32:18.589978', u'study:COPD', u'submitterDonorPrimarySite:Blood', u'specimenUUID:ba858709-7495-5cb1-804c-e87e315ce63a', u'project:COPD', u'redwoodDonorUUID:d21800f7-22ce-5def-83e5-c37628b402af', u'title:NWD148090.b38.irc.v1.cram', u'software:topmed-spinnaker', u'file_id:2aa56d6f-66a4-42c1-b8b7-ba3fe86c2974'], u'id': u'2aa56d6f-66a4-42c1-b8b7-ba3fe86c2974', u'size': u'31600174469'}, {u'updated': u'2018-02-22T06:32:18.573229Z', u'name': u'NWD143978.b38.irc.v1.cram.crai', u'version': u'2018-02-28T052620.856499Z', u'urls': [{u'url': u's3://nih-nhlbi-datacommons/NWD143978.b38.irc.v1.cram.crai'}], u'checksums': [{u'checksum': u'c74fab9a22cdedb0d4be969b7a3601b6b3e59e95', u'type': u'md5'}], u'aliases': [u'repoDataBundleId:24147f9b-8f15-512e-8d0f-ed7fbb761a3c', u'center_name:UW', u'submitter_donor_id:', u'sampleId:766f708b-04e8-5293-80e5-6c469d6a2f23', u'submittedSampleId:NWD143978', u'repoBaseUrl:', u'analysis_type:alignment', u'repoCode:Redwood-AWS-Oregon', u'repoCountry:US', u'file_type:crai', u'submittedSpecimenId:SRS1231319', u'file_version:2018-02-28T052620.856499Z', u'workflow:topmed-spinnaker:Alpha Build 1', u'access:public', u'fileMd5sum:c74fab9a22cdedb0d4be969b7a3601b6b3e59e95', u'program:NHLBI TOPMed: Genetic Epidemiology of COPD (COPDGene) in the TOPMed Program', u'repoType:Blue Box', u'repoName:Redwood-AWS-Oregon', u'donor:1bfca1d0-972e-58b8-b1cd-fa60c45d78c3', u'workflowVersion:Alpha Build 1', u'experimentalStrategy:Seq_DNA_SNP_CNV; Seq_DNA_WholeGenome', u'download_id:24147f9b-8f15-512e-8d0f-ed7fbb761a3c', u'repoOrg:UCSC', u'fileSize:1437360', u'submittedDonorId:COPDGene_M94981', u'specimen_type:Normal - Blood', u'metadataJson:', u'lastModified:2018-02-22T06:32:18.573229', u'study:COPD', u'submitterDonorPrimarySite:Blood', u'specimenUUID:6f456f8d-3dd9-5397-868d-f4c9f8a251a8', u'project:COPD', u'redwoodDonorUUID:1bfca1d0-972e-58b8-b1cd-fa60c45d78c3', u'title:NWD143978.b38.irc.v1.cram.crai', u'software:topmed-spinnaker', u'file_id:252b5eb3-d46a-4f74-8b55-51aa9b3ef702'], u'id': u'252b5eb3-d46a-4f74-8b55-51aa9b3ef702', u'size': u'1437360'}, {u'updated': u'2018-02-22T06:32:18.643790Z', u'name': u'NWD169220.b38.irc.v1.cram.crai', u'version': u'2018-02-28T053049.664561Z', u'urls': [{u'url': u's3://nih-nhlbi-datacommons/NWD169220.b38.irc.v1.cram.crai'}], u'checksums': [{u'checksum': u'eb1406e2c01980c4ae25874bc13c282e2034beb0', u'type': u'md5'}], u'aliases': [u'repoDataBundleId:05b15e8a-c561-5db9-8af3-b706fe83a403', u'center_name:UW', u'submitter_donor_id:', u'sampleId:8df0b9ba-1e54-5227-877b-8d76aabc68f7', u'submittedSampleId:NWD169220', u'repoBaseUrl:', u'analysis_type:alignment', u'repoCode:Redwood-AWS-Oregon', u'repoCountry:US', u'file_type:crai', u'submittedSpecimenId:SRS1232785', u'file_version:2018-02-28T053049.664561Z', u'workflow:topmed-spinnaker:Alpha Build 1', u'access:public', u'fileMd5sum:eb1406e2c01980c4ae25874bc13c282e2034beb0', u'program:NHLBI TOPMed: Genetic Epidemiology of COPD (COPDGene) in the TOPMed Program', u'repoType:Blue Box', u'repoName:Redwood-AWS-Oregon', u'donor:6cfc5782-60f3-5a6e-b6d2-9a1b4868e8a7', u'workflowVersion:Alpha Build 1', u'experimentalStrategy:Seq_DNA_SNP_CNV; Seq_DNA_WholeGenome', u'download_id:05b15e8a-c561-5db9-8af3-b706fe83a403', u'repoOrg:UCSC', u'fileSize:1630026', u'submittedDonorId:COPDGene_E59352', u'specimen_type:Normal - Blood', u'metadataJson:', u'lastModified:2018-02-22T06:32:18.643790', u'study:COPD', u'submitterDonorPrimarySite:Blood', u'specimenUUID:51683e2e-4dcb-5087-ba65-e80d197cf4cf', u'project:COPD', u'redwoodDonorUUID:6cfc5782-60f3-5a6e-b6d2-9a1b4868e8a7', u'title:NWD169220.b38.irc.v1.cram.crai', u'software:topmed-spinnaker', u'file_id:141b2f96-e2f5-42c2-bb3f-63c6df8fca72'], u'id': u'141b2f96-e2f5-42c2-bb3f-63c6df8fca72', u'size': u'1630026'}, {u'updated': u'2018-02-22T06:32:18.420498Z', u'name': u'NWD937704.b38.irc.v1.cram.crai', u'version': u'2018-02-28T051632.541956Z', u'urls': [{u'url': u's3://nih-nhlbi-datacommons/NWD937704.b38.irc.v1.cram.crai'}], u'checksums': [{u'checksum': u'31414900dc44bf6305d757d1f7aa8de71e47b803', u'type': u'md5'}], u'aliases': [u'repoDataBundleId:3d9ce276-9ae3-5f5d-a14a-da2c322f32f9', u'center_name:UW', u'submitter_donor_id:', u'sampleId:cf66c936-ea57-5a60-9418-13aad6faa77b', u'submittedSampleId:NWD937704', u'repoBaseUrl:', u'analysis_type:alignment', u'repoCode:Redwood-AWS-Oregon', u'repoCountry:US', u'file_type:crai', u'submittedSpecimenId:SRS1230279', u'file_version:2018-02-28T051632.541956Z', u'workflow:topmed-spinnaker:Alpha Build 1', u'access:public', u'fileMd5sum:31414900dc44bf6305d757d1f7aa8de71e47b803', u'program:NHLBI TOPMed: Boston Early-Onset COPD Study in the TOPMed Program', u'repoType:Blue Box', u'repoName:Redwood-AWS-Oregon', u'donor:9281538f-aab3-5f84-ad63-c8c93de63ce4', u'workflowVersion:Alpha Build 1', u'experimentalStrategy:Seq_DNA_SNP_CNV; Seq_DNA_WholeGenome', u'download_id:3d9ce276-9ae3-5f5d-a14a-da2c322f32f9', u'repoOrg:UCSC', u'fileSize:1270237', u'submittedDonorId:EO9029407', u'specimen_type:Normal - Blood', u'metadataJson:', u'lastModified:2018-02-22T06:32:18.420498', u'study:COPD', u'submitterDonorPrimarySite:Blood', u'specimenUUID:fb3ea06c-e093-5cf7-bffd-404d9fda5b28', u'project:COPD', u'redwoodDonorUUID:9281538f-aab3-5f84-ad63-c8c93de63ce4', u'title:NWD937704.b38.irc.v1.cram.crai', u'software:topmed-spinnaker', u'file_id:2ce291de-4f12-4cf3-95ab-e75522007958'], u'id': u'2ce291de-4f12-4cf3-95ab-e75522007958', u'size': u'1270237'}, {u'updated': u'2018-02-22T04:43:41.374862Z', u'name': u'NWD324283.b38.irc.v1.cram', u'version': u'2018-02-28T060222.196139Z', u'urls': [{u'url': u's3://nih-nhlbi-datacommons/NWD324283.b38.irc.v1.cram'}], u'checksums': [{u'checksum': u'5a305039d61b0e51c1f14a3d3d950af107db3be0', u'type': u'md5'}], u'aliases': [u'repoDataBundleId:0f7ce0d0-941a-54be-b59d-1eb813a65677', u'center_name:UW', u'submitter_donor_id:', u'sampleId:d43c4728-2896-570d-a054-c4e84214da07', u'submittedSampleId:NWD324283', u'repoBaseUrl:', u'analysis_type:alignment', u'repoCode:Redwood-AWS-Oregon', u'repoCountry:US', u'file_type:cram', u'submittedSpecimenId:SRS1235840', u'file_version:2018-02-28T060222.196139Z', u'workflow:topmed-spinnaker:Alpha Build 1', u'access:public', u'fileMd5sum:5a305039d61b0e51c1f14a3d3d950af107db3be0', u'program:NHLBI TOPMed: Genetic Epidemiology of COPD (COPDGene) in the TOPMed Program', u'repoType:Blue Box', u'repoName:Redwood-AWS-Oregon', u'donor:487a2abe-dd41-547c-a62b-37119257db56', u'workflowVersion:Alpha Build 1', u'experimentalStrategy:Seq_DNA_SNP_CNV; Seq_DNA_WholeGenome', u'download_id:0f7ce0d0-941a-54be-b59d-1eb813a65677', u'repoOrg:UCSC', u'fileSize:20099857853', u'submittedDonorId:COPDGene_W15100', u'specimen_type:Normal - Blood', u'metadataJson:', u'lastModified:2018-02-22T04:43:41.374862', u'study:COPD', u'submitterDonorPrimarySite:Blood', u'specimenUUID:4116a6c5-c3b2-5700-ac54-35109d69eb96', u'project:COPD', u'redwoodDonorUUID:487a2abe-dd41-547c-a62b-37119257db56', u'title:NWD324283.b38.irc.v1.cram', u'software:topmed-spinnaker', u'file_id:a3db2c85-8e79-4f03-af2c-e82c1a9c6b0f'], u'id': u'a3db2c85-8e79-4f03-af2c-e82c1a9c6b0f', u'size': u'20099857853'}, {u'updated': u'2018-02-22T04:43:41.620066Z', u'name': u'NWD400628.b38.irc.v1.cram', u'version': u'2018-02-28T061637.124721Z', u'urls': [{u'url': u's3://nih-nhlbi-datacommons/NWD400628.b38.irc.v1.cram'}], u'checksums': [{u'checksum': u'8d09ef90a9c79c76ef36b89bb1b3efa7a37d9018', u'type': u'md5'}], u'aliases': [u'repoDataBundleId:1bd3f098-891d-5a5e-ba2f-692828056ce7', u'center_name:UW', u'submitter_donor_id:', u'sampleId:c454d93f-3190-596f-a84f-42d35a0de479', u'submittedSampleId:NWD400628', u'repoBaseUrl:', u'analysis_type:alignment', u'repoCode:Redwood-AWS-Oregon', u'repoCountry:US', u'file_type:cram', u'submittedSpecimenId:SRS1666712', u'file_version:2018-02-28T061637.124721Z', u'workflow:topmed-spinnaker:Alpha Build 1', u'access:public', u'fileMd5sum:8d09ef90a9c79c76ef36b89bb1b3efa7a37d9018', u'program:NHLBI TOPMed: Genetic Epidemiology of COPD (COPDGene) in the TOPMed Program', u'repoType:Blue Box', u'repoName:Redwood-AWS-Oregon', u'donor:77853d50-a263-5f18-8646-c9f8bcbe7ca9', u'workflowVersion:Alpha Build 1', u'experimentalStrategy:Seq_DNA_SNP_CNV; Seq_DNA_WholeGenome', u'download_id:1bd3f098-891d-5a5e-ba2f-692828056ce7', u'repoOrg:UCSC', u'fileSize:22011999433', u'submittedDonorId:COPDGene_M89740', u'specimen_type:Normal - Blood', u'metadataJson:', u'lastModified:2018-02-22T04:43:41.620066', u'study:COPD', u'submitterDonorPrimarySite:Blood', u'specimenUUID:c9784792-1871-5896-8745-579b8b5aee67', u'project:COPD', u'redwoodDonorUUID:77853d50-a263-5f18-8646-c9f8bcbe7ca9', u'title:NWD400628.b38.irc.v1.cram', u'software:topmed-spinnaker', u'file_id:17bcd11f-a0e3-4568-8fea-cbe998a3dea7'], u'id': u'17bcd11f-a0e3-4568-8fea-cbe998a3dea7', u'size': u'22011999433'}]}\n"
     ]
    }
   ],
   "source": [
    "print(response.json())"
   ]
  },
  {
   "cell_type": "markdown",
   "metadata": {},
   "source": [
    "There's a lot of information in that response, but it's in the Data Object Service schemas, so we can iterate through it without needing to introspect on the JSON."
   ]
  },
  {
   "cell_type": "code",
   "execution_count": 33,
   "metadata": {},
   "outputs": [
    {
     "name": "stdout",
     "output_type": "stream",
     "text": [
      "46c8a5f1-15ab-48fa-8d1c-63099422e3c7\n",
      "a62ee491-489d-405a-8a3b-83765f9e91fb\n",
      "fff5a29f-d184-4e3b-9c5b-6f44aea7f527\n",
      "24f5248b-d1b0-4348-94e5-1476db16fd8a\n",
      "2aa56d6f-66a4-42c1-b8b7-ba3fe86c2974\n",
      "252b5eb3-d46a-4f74-8b55-51aa9b3ef702\n",
      "141b2f96-e2f5-42c2-bb3f-63c6df8fca72\n",
      "2ce291de-4f12-4cf3-95ab-e75522007958\n",
      "a3db2c85-8e79-4f03-af2c-e82c1a9c6b0f\n",
      "17bcd11f-a0e3-4568-8fea-cbe998a3dea7\n"
     ]
    }
   ],
   "source": [
    "for data_object in response.json()['data_objects']:\n",
    "    print(data_object['id'])"
   ]
  },
  {
   "cell_type": "markdown",
   "metadata": {},
   "source": [
    "### Paging through results\n",
    "\n",
    "More than 10 results exist in the dataset. To iterate past the initial 10, we use the Data Object Service `page_token` and `page_size` to control the size of results."
   ]
  },
  {
   "cell_type": "code",
   "execution_count": 34,
   "metadata": {},
   "outputs": [
    {
     "name": "stdout",
     "output_type": "stream",
     "text": [
      "100\n"
     ]
    }
   ],
   "source": [
    "response = requests.get(\"{}/ga4gh/dos/v1/dataobjects?page_size=100\".format(lambda_url))\n",
    "print(len(response.json()['data_objects']))"
   ]
  },
  {
   "cell_type": "markdown",
   "metadata": {},
   "source": [
    "The response returns a token that can be used to get the next page:"
   ]
  },
  {
   "cell_type": "code",
   "execution_count": 35,
   "metadata": {},
   "outputs": [
    {
     "name": "stdout",
     "output_type": "stream",
     "text": [
      "1\n"
     ]
    }
   ],
   "source": [
    "print(response.json()['next_page_token'])\n",
    "next_page_token = response.json()['next_page_token']"
   ]
  },
  {
   "cell_type": "code",
   "execution_count": 36,
   "metadata": {},
   "outputs": [
    {
     "name": "stdout",
     "output_type": "stream",
     "text": [
      "100\n",
      "a62ee491-489d-405a-8a3b-83765f9e91fb\n",
      "1529dcf9-8f61-40fd-9eb0-89a480cbf156\n"
     ]
    }
   ],
   "source": [
    "import urllib\n",
    "list_request = urllib.urlencode({'page_size': 100, 'page_token': next_page_token})\n",
    "response_2 = requests.get(\"{}/ga4gh/dos/v1/dataobjects?{}\".format(lambda_url, list_request))\n",
    "print(len(response_2.json()['data_objects']))\n",
    "print(response_2.json()['data_objects'][0]['id'])\n",
    "print(response.json()['data_objects'][99]['id'])"
   ]
  },
  {
   "cell_type": "markdown",
   "metadata": {},
   "source": [
    "### Using alias search\n",
    "\n",
    "One of the main features of the dos-azul-index is providing facet based search on fields from the nested metadata in the DSS. This DOS over the azul-index attempts to present a similar feature using tags, without modifying the azul-index.\n",
    "\n",
    "To construct an example query, let's look at some example aliases:"
   ]
  },
  {
   "cell_type": "code",
   "execution_count": 37,
   "metadata": {},
   "outputs": [
    {
     "name": "stdout",
     "output_type": "stream",
     "text": [
      "[u'file_type:crai', u'submittedSpecimenId:SRS1231092', u'file_version:2018-02-28T060238.897266Z', u'workflow:topmed-spinnaker:Alpha Build 1', u'access:public', u'fileMd5sum:7d89245522666b3beea7684a7fbad04a26a575c2']\n"
     ]
    },
    {
     "data": {
      "text/plain": [
       "36"
      ]
     },
     "execution_count": 37,
     "metadata": {},
     "output_type": "execute_result"
    }
   ],
   "source": [
    "print(response.json()['data_objects'][99]['aliases'][9:15])\n",
    "len(response.json()['data_objects'][99]['aliases'])"
   ]
  },
  {
   "cell_type": "markdown",
   "metadata": {},
   "source": [
    "In this version of the azul-index there are 36 fields that can help construct a search. DOS alias search is meant to be simple to implement, and performs simple string matching. Here, we can constrain results to a certain specimen."
   ]
  },
  {
   "cell_type": "code",
   "execution_count": 38,
   "metadata": {},
   "outputs": [
    {
     "name": "stdout",
     "output_type": "stream",
     "text": [
      "2\n",
      "[u'repoDataBundleId:3f107d36-0ad5-525a-8755-f132a5fcb979', u'center_name:Broad', u'submitter_donor_id:', u'sampleId:f1781010-452b-5372-8bef-3056153b7d6b', u'submittedSampleId:NWD467250', u'repoBaseUrl:', u'analysis_type:alignment', u'repoCode:Redwood-AWS-Oregon', u'repoCountry:US', u'file_type:crai', u'submittedSpecimenId:SRS1304405', u'file_version:2018-02-28T090140.829798Z', u'workflow:topmed-spinnaker:Alpha Build 1', u'access:public', u'fileMd5sum:95f7049e2d21f1c3055ea704ac3cc9034826a8ca', u'program:NHLBI TOPMed: Genetics of Cardiometabolic Health in the Amish', u'repoType:Blue Box', u'repoName:Redwood-AWS-Oregon', u'donor:81c975fa-be54-5098-8723-c35eb7f0c188', u'workflowVersion:Alpha Build 1', u'experimentalStrategy:Seq_DNA_SNP_CNV; Seq_DNA_WholeGenome', u'download_id:3f107d36-0ad5-525a-8755-f132a5fcb979', u'repoOrg:UCSC', u'fileSize:1366325', u'submittedDonorId:DBG00880', u'specimen_type:Normal - Blood', u'metadataJson:', u'lastModified:2018-02-22T16:36:15.032391', u'study:Amish', u'submitterDonorPrimarySite:Blood', u'specimenUUID:2e52e0a6-21ad-5ad2-8d34-75af3b155adf', u'project:Amish', u'redwoodDonorUUID:81c975fa-be54-5098-8723-c35eb7f0c188', u'title:NWD467250.b38.irc.v1.cram.crai', u'software:topmed-spinnaker', u'file_id:ef1543a1-fbb5-44f5-b941-ccef5cf53962']\n",
      "True\n"
     ]
    }
   ],
   "source": [
    "list_request = urllib.urlencode({'alias': 'submittedSpecimenId:SRS1304405'})\n",
    "response = requests.get(\"{}/ga4gh/dos/v1/dataobjects?{}\".format(lambda_url, list_request))\n",
    "print(len(response.json()['data_objects']))\n",
    "print(response.json()['data_objects'][0]['aliases'])\n",
    "print('submittedSpecimenId:SRS1304405' in response.json()['data_objects'][0]['aliases'])"
   ]
  },
  {
   "cell_type": "markdown",
   "metadata": {},
   "source": [
    "Here, we see there are two Data Objects matching this specimenId, and we show that the first did return the alias in the response."
   ]
  },
  {
   "cell_type": "markdown",
   "metadata": {},
   "source": [
    "## Getting Data Objects by id\n",
    "\n",
    "Using a `GetDataObjectRequest` we can request individual Data Objects from the dos-azul-lambda.\n",
    "\n",
    "First, we'll grab an identifier from our previous list response."
   ]
  },
  {
   "cell_type": "code",
   "execution_count": 39,
   "metadata": {},
   "outputs": [
    {
     "name": "stdout",
     "output_type": "stream",
     "text": [
      "ef1543a1-fbb5-44f5-b941-ccef5cf53962\n"
     ]
    }
   ],
   "source": [
    "data_object_id = response.json()['data_objects'][0]['id']\n",
    "print(data_object_id)"
   ]
  },
  {
   "cell_type": "markdown",
   "metadata": {},
   "source": [
    "We can then use simple HTTP requests to get that individual Data Object:"
   ]
  },
  {
   "cell_type": "code",
   "execution_count": 40,
   "metadata": {},
   "outputs": [
    {
     "name": "stdout",
     "output_type": "stream",
     "text": [
      "{\"data_object\": {\"updated\": \"2018-02-22T16:36:15.032391Z\", \"name\": \"NWD467250.b38.irc.v1.cram.crai\", \"version\": \"2018-02-28T090140.829798Z\", \"urls\": [{\"url\": \"s3://nih-nhlbi-datacommons/NWD467250.b38.irc.v1.cram.crai\"}], \"checksums\": [{\"checksum\": \"95f7049e2d21f1c3055ea704ac3cc9034826a8ca\", \"type\": \"md5\"}], \"size\": \"1366325\", \"id\": \"ef1543a1-fbb5-44f5-b941-ccef5cf53962\", \"aliases\": [\"repoDataBundleId:3f107d36-0ad5-525a-8755-f132a5fcb979\", \"center_name:Broad\", \"submitter_donor_id:\", \"sampleId:f1781010-452b-5372-8bef-3056153b7d6b\", \"submittedSampleId:NWD467250\", \"repoBaseUrl:\", \"analysis_type:alignment\", \"repoCode:Redwood-AWS-Oregon\", \"repoCountry:US\", \"file_type:crai\", \"submittedSpecimenId:SRS1304405\", \"file_version:2018-02-28T090140.829798Z\", \"workflow:topmed-spinnaker:Alpha Build 1\", \"access:public\", \"fileMd5sum:95f7049e2d21f1c3055ea704ac3cc9034826a8ca\", \"program:NHLBI TOPMed: Genetics of Cardiometabolic Health in the Amish\", \"repoType:Blue Box\", \"repoName:Redwood-AWS-Oregon\", \"donor:81c975fa-be54-5098-8723-c35eb7f0c188\", \"workflowVersion:Alpha Build 1\", \"experimentalStrategy:Seq_DNA_SNP_CNV; Seq_DNA_WholeGenome\", \"download_id:3f107d36-0ad5-525a-8755-f132a5fcb979\", \"repoOrg:UCSC\", \"fileSize:1366325\", \"submittedDonorId:DBG00880\", \"specimen_type:Normal - Blood\", \"metadataJson:\", \"lastModified:2018-02-22T16:36:15.032391\", \"study:Amish\", \"submitterDonorPrimarySite:Blood\", \"specimenUUID:2e52e0a6-21ad-5ad2-8d34-75af3b155adf\", \"project:Amish\", \"redwoodDonorUUID:81c975fa-be54-5098-8723-c35eb7f0c188\", \"title:NWD467250.b38.irc.v1.cram.crai\", \"software:topmed-spinnaker\", \"file_id:ef1543a1-fbb5-44f5-b941-ccef5cf53962\"]}}"
     ]
    }
   ],
   "source": [
    "!curl $lambda_url/ga4gh/dos/v1/dataobjects/$data_object_id"
   ]
  },
  {
   "cell_type": "markdown",
   "metadata": {},
   "source": [
    "We can also use the `requests` module to perform the same action:"
   ]
  },
  {
   "cell_type": "code",
   "execution_count": 41,
   "metadata": {},
   "outputs": [
    {
     "name": "stdout",
     "output_type": "stream",
     "text": [
      "{u'data_object': {u'updated': u'2018-02-22T16:36:15.032391Z', u'name': u'NWD467250.b38.irc.v1.cram.crai', u'version': u'2018-02-28T090140.829798Z', u'urls': [{u'url': u's3://nih-nhlbi-datacommons/NWD467250.b38.irc.v1.cram.crai'}], u'checksums': [{u'checksum': u'95f7049e2d21f1c3055ea704ac3cc9034826a8ca', u'type': u'md5'}], u'aliases': [u'repoDataBundleId:3f107d36-0ad5-525a-8755-f132a5fcb979', u'center_name:Broad', u'submitter_donor_id:', u'sampleId:f1781010-452b-5372-8bef-3056153b7d6b', u'submittedSampleId:NWD467250', u'repoBaseUrl:', u'analysis_type:alignment', u'repoCode:Redwood-AWS-Oregon', u'repoCountry:US', u'file_type:crai', u'submittedSpecimenId:SRS1304405', u'file_version:2018-02-28T090140.829798Z', u'workflow:topmed-spinnaker:Alpha Build 1', u'access:public', u'fileMd5sum:95f7049e2d21f1c3055ea704ac3cc9034826a8ca', u'program:NHLBI TOPMed: Genetics of Cardiometabolic Health in the Amish', u'repoType:Blue Box', u'repoName:Redwood-AWS-Oregon', u'donor:81c975fa-be54-5098-8723-c35eb7f0c188', u'workflowVersion:Alpha Build 1', u'experimentalStrategy:Seq_DNA_SNP_CNV; Seq_DNA_WholeGenome', u'download_id:3f107d36-0ad5-525a-8755-f132a5fcb979', u'repoOrg:UCSC', u'fileSize:1366325', u'submittedDonorId:DBG00880', u'specimen_type:Normal - Blood', u'metadataJson:', u'lastModified:2018-02-22T16:36:15.032391', u'study:Amish', u'submitterDonorPrimarySite:Blood', u'specimenUUID:2e52e0a6-21ad-5ad2-8d34-75af3b155adf', u'project:Amish', u'redwoodDonorUUID:81c975fa-be54-5098-8723-c35eb7f0c188', u'title:NWD467250.b38.irc.v1.cram.crai', u'software:topmed-spinnaker', u'file_id:ef1543a1-fbb5-44f5-b941-ccef5cf53962'], u'id': u'ef1543a1-fbb5-44f5-b941-ccef5cf53962', u'size': u'1366325'}}\n",
      "\n",
      "The first URL to access the Data Object\n",
      "{u'url': u's3://nih-nhlbi-datacommons/NWD467250.b38.irc.v1.cram.crai'}\n"
     ]
    }
   ],
   "source": [
    "response = requests.get('{}/ga4gh/dos/v1/dataobjects/{}'.format(lambda_url, data_object_id))\n",
    "print(response.json())\n",
    "print(\"\")\n",
    "print('The first URL to access the Data Object')\n",
    "print(response.json()['data_object']['urls'][0])"
   ]
  },
  {
   "cell_type": "markdown",
   "metadata": {},
   "source": [
    "## Using the DOS Client to access dos-azul-lambda\n",
    "\n",
    "The 0.2.1 version of the ga4gh-dos-schemas include a client that can be used to access services like the dos-azul-lambda. First, we import, and instantiate the client to point at the service."
   ]
  },
  {
   "cell_type": "code",
   "execution_count": 42,
   "metadata": {},
   "outputs": [],
   "source": [
    "from ga4gh.dos.client import Client\n",
    "client = Client(lambda_url)\n",
    "c = client.client\n",
    "models = client.models"
   ]
  },
  {
   "cell_type": "markdown",
   "metadata": {},
   "source": [
    "Now we can access models in the Data Object Service schemas and issue requests without having to write out the endpoints!"
   ]
  },
  {
   "cell_type": "code",
   "execution_count": 43,
   "metadata": {},
   "outputs": [
    {
     "name": "stdout",
     "output_type": "stream",
     "text": [
      "ef1543a1-fbb5-44f5-b941-ccef5cf53962\n",
      "ef1543a1-fbb5-44f5-b941-ccef5cf53962\n",
      "submittedSpecimenId:SRS1304405\n"
     ]
    }
   ],
   "source": [
    "response = c.GetDataObject(data_object_id=data_object_id).result()\n",
    "print(data_object_id)\n",
    "print(response.data_object.id)\n",
    "print(response.data_object.aliases[10])"
   ]
  },
  {
   "cell_type": "markdown",
   "metadata": {},
   "source": [
    "The client can also be used to make `ListDataObjectsRequest`. We'll try to find it using the alias `submittedSpecimenId:SRS1304405`. We should get back this Data Object somewhere in the response."
   ]
  },
  {
   "cell_type": "code",
   "execution_count": 44,
   "metadata": {},
   "outputs": [
    {
     "name": "stdout",
     "output_type": "stream",
     "text": [
      "2\n"
     ]
    }
   ],
   "source": [
    "list_response = c.ListDataObjects(alias=response.data_object.aliases[10]).result()\n",
    "print(len(list_response.data_objects))"
   ]
  },
  {
   "cell_type": "markdown",
   "metadata": {},
   "source": [
    "Two Objects were returned, presumably the cram and crai files for the specimen. We can demonstrate this by showing our data_object_id showed up in the results:"
   ]
  },
  {
   "cell_type": "code",
   "execution_count": 45,
   "metadata": {},
   "outputs": [
    {
     "name": "stdout",
     "output_type": "stream",
     "text": [
      "True\n"
     ]
    }
   ],
   "source": [
    "print(data_object_id in [x.id for x in list_response.data_objects])"
   ]
  },
  {
   "cell_type": "markdown",
   "metadata": {},
   "source": [
    "## Updating a Data Object with a new Alias\n",
    "\n",
    "One of the advantages of having a request schema like the one DOS provides is that we can easily use it to interoperate with underlying systems in ways that suit a use case.\n",
    "\n",
    "Here we want to be able to \"tag\" an object after the fact, without having to modify the store that feeds into the azul-index. This is done by sending an `UpdateDataObjectRequest`, which the dos-azul-lambda knows how to convert to the underlying index.\n",
    "\n",
    "This is done in a way that attempts to respect existing keys, though a list of `safe_keys` is maintained in the code that allows certain keys to be modified.\n",
    "\n",
    "### Authorizing a Request\n",
    "\n",
    "Since this service makes modifications to an index an `access_token` is required. This is provided in the chalice `config.json` and provided as an environment variable to each instance of the lambda.\n",
    "\n",
    "A convenience endpoint for testing tokens is provided:"
   ]
  },
  {
   "cell_type": "code",
   "execution_count": 46,
   "metadata": {},
   "outputs": [
    {
     "name": "stdout",
     "output_type": "stream",
     "text": [
      "{u'authorized': True}\n"
     ]
    }
   ],
   "source": [
    "access_token = \"f4ce9d3d23f4ac9dfdc3c825608dc660\"\n",
    "headers = {'access_token': access_token}\n",
    "auth_check = requests.get(\"{}/test_token\".format(lambda_url), headers=headers)\n",
    "print(auth_check.json())"
   ]
  },
  {
   "cell_type": "markdown",
   "metadata": {},
   "source": [
    "We can now add aliases to our Data Object as needed to support various use cases. We'll add a key called `doi` which is meant to represent a Digital Object Identifier, but could be any string. `doi` is one of the safe keys we can rewrite."
   ]
  },
  {
   "cell_type": "markdown",
   "metadata": {},
   "source": [
    "### Getting an Object to Update\n",
    "\n",
    "We can reuse a Data Object from above for this demonstration."
   ]
  },
  {
   "cell_type": "code",
   "execution_count": 47,
   "metadata": {},
   "outputs": [
    {
     "name": "stdout",
     "output_type": "stream",
     "text": [
      "ef1543a1-fbb5-44f5-b941-ccef5cf53962\n",
      "[u'repoDataBundleId:3f107d36-0ad5-525a-8755-f132a5fcb979', u'center_name:Broad', u'submitter_donor_id:', u'sampleId:f1781010-452b-5372-8bef-3056153b7d6b', u'submittedSampleId:NWD467250']\n"
     ]
    }
   ],
   "source": [
    "data_object = response.data_object\n",
    "print(data_object['id'])\n",
    "print(data_object['aliases'][0:5])"
   ]
  },
  {
   "cell_type": "markdown",
   "metadata": {},
   "source": [
    "It already has a number of aliases, and we want to upsert a new value, so it works somewhat how you might expect:"
   ]
  },
  {
   "cell_type": "markdown",
   "metadata": {},
   "source": [
    "### Modifying a Data Object to include a DOI"
   ]
  },
  {
   "cell_type": "code",
   "execution_count": 73,
   "metadata": {},
   "outputs": [],
   "source": [
    "fake_doi_alias = 'doi:10.0.0.1/12345'\n",
    "data_object['aliases'].append(fake_doi_alias)"
   ]
  },
  {
   "cell_type": "markdown",
   "metadata": {},
   "source": [
    "### Making an UpdateDataObjectRequest\n",
    "\n",
    "We then make a `UpdateDataObjectRequest` which includes the fields we want to update. The dos-azul-lambda allows writing to new fields, or to fields listed in a list of `safe_keys`."
   ]
  },
  {
   "cell_type": "code",
   "execution_count": 74,
   "metadata": {},
   "outputs": [
    {
     "name": "stdout",
     "output_type": "stream",
     "text": [
      "ef1543a1-fbb5-44f5-b941-ccef5cf53962\n"
     ]
    }
   ],
   "source": [
    "UpdateDataObjectRequest = models.get_model('UpdateDataObjectRequest')\n",
    "update_request = UpdateDataObjectRequest(data_object=data_object)\n",
    "update_response = c.UpdateDataObject(\n",
    "    data_object_id=data_object.id,\n",
    "    body=update_request,\n",
    "    _request_options={\"headers\": {\"access_token\": access_token}}).result()\n",
    "print(update_response['data_object_id'])"
   ]
  },
  {
   "cell_type": "markdown",
   "metadata": {},
   "source": [
    "It returns the identifier of the Data Object updated."
   ]
  },
  {
   "cell_type": "markdown",
   "metadata": {},
   "source": [
    "### Verifying the new alias\n",
    "\n",
    "\n",
    "First, we'll get the Data Object by identifier to make sure that it has our new metadata. We do this by performing a GetDataObject using the server specific identifier (a UUID)."
   ]
  },
  {
   "cell_type": "code",
   "execution_count": 76,
   "metadata": {},
   "outputs": [
    {
     "name": "stdout",
     "output_type": "stream",
     "text": [
      "True\n",
      "doi:10.0.0.1/12345\n"
     ]
    }
   ],
   "source": [
    "doi = c.GetDataObject(data_object_id=data_object.id).result().data_object.aliases[27]\n",
    "print(doi == fake_doi_alias)\n",
    "print(doi)"
   ]
  },
  {
   "cell_type": "markdown",
   "metadata": {},
   "source": [
    "The returned alias agrees with the alias we wanted to set!"
   ]
  },
  {
   "cell_type": "markdown",
   "metadata": {},
   "source": [
    "### Finding Data Objects by Alias\n",
    "\n",
    "Now that we know the alias is there as expected. We can make a request to find Data Objects by that alias. We would like to be able to tag items with GUIDs, and have them be immediately and easily findable using the same interface.\n",
    "\n",
    "To do that we perform a `ListDataObjectsRequest` with the alias we would like to filter for."
   ]
  },
  {
   "cell_type": "code",
   "execution_count": 79,
   "metadata": {},
   "outputs": [
    {
     "name": "stdout",
     "output_type": "stream",
     "text": [
      "ef1543a1-fbb5-44f5-b941-ccef5cf53962\n",
      "True\n",
      "doi:10.0.0.1/12345\n"
     ]
    }
   ],
   "source": [
    "list_response = c.ListDataObjects(alias=fake_doi_alias).result()\n",
    "print(list_response.data_objects[0].id)\n",
    "print(data_object.id == list_response.data_objects[0].id)\n",
    "print(list_response.data_objects[0].aliases[27])"
   ]
  },
  {
   "cell_type": "markdown",
   "metadata": {},
   "source": [
    "The returned Data Object matched our alias request and contained the expected metadata!"
   ]
  },
  {
   "cell_type": "markdown",
   "metadata": {},
   "source": [
    "## Looking forward\n",
    "\n",
    "For more information on the Data Object Service schemas in general, check out the [DOS github](https://github.com/ga4gh/data-object-service-schemas)!\n",
    "\n",
    "This effort is meant to support tagging of data easily from the HCA DSS, future work to maintain authentication across accounts would allow for collaborative metadata tagging and filtering.\n",
    "\n",
    "The azul-index currently flattens to a map of strings. As the mapping of the index changes, more features may become possible."
   ]
  },
  {
   "cell_type": "code",
   "execution_count": null,
   "metadata": {},
   "outputs": [],
   "source": []
  }
 ],
 "metadata": {
  "kernelspec": {
   "display_name": "Python 2",
   "language": "python",
   "name": "python2"
  },
  "language_info": {
   "codemirror_mode": {
    "name": "ipython",
    "version": 2
   },
   "file_extension": ".py",
   "mimetype": "text/x-python",
   "name": "python",
   "nbconvert_exporter": "python",
   "pygments_lexer": "ipython2",
   "version": "2.7.14"
  }
 },
 "nbformat": 4,
 "nbformat_minor": 2
}
